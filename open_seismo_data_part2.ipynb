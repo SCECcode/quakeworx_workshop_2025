{
 "cells": [
  {
   "cell_type": "markdown",
   "id": "107010ba-5e2b-4d28-910d-6503612236cf",
   "metadata": {},
   "source": [
    "<img src=\"./images/SCEC_logo-2colors_BlueRed.png\" style=\"width:200px;\"/>\n",
    "\n",
    "# Open Science Data for Seismology\n",
    "\n",
    "This notebook introduces key open science data types in seismology and provides hands-on exercis\n",
    "es for accessing and exploring these datasets.\n",
    "\n",
    "---\n",
    "\n",
    "## Earthquake Catalogs, Observed Seismograms, Fault Geometry Models, Seismic Velocity Models\n",
    "\n",
    "Seismology relies on diverse datasets to study the Earth's structure and seismic events:\n",
    "\n",
    "- **Earthquake Catalogs**: Databases of earthquake locations, magnitudes, and times (e.g., USGS, IRIS).\n",
    "- **Observed Seismograms**: Time-series data recorded by seismic stations.\n",
    "- **Fault Geometry Models**: Representations of fault surfaces in 3D.\n",
    "- **Seismic Velocity Models**: Maps of seismic wave speeds in the Earth's subsurface.\n",
    "\n",
    "---\n",
    "\n",
    "## Find, Select, Download, View\n",
    "\n",
    "Accessing seismological data involves these steps:\n",
    "1. **Find**: Locate datasets using platforms like IRIS DMC or USGS Earthquake Catalog.\n",
    "2. **Select**: Filter datasets based on criteria like location, time range, or magnitude.\n",
    "3. **Download**: Retrieve data in formats such as CSV, SAC, or NetCDF.\n",
    "4. **View**: Visualize data with tools like Python, ObsPy, or GIS software.\n",
    "\n",
    "---\n",
    "\n",
    "## Open Science Data Access Software:\n",
    "\n",
    "This notebook makes use of three seismological data access software distributions:\n",
    "1. Earthquake Catalogs - pyCSEP\n",
    "2. Observed Seismograms - Obspy\n",
    "3. Fault Models - wget\n",
    "4. Velocity Models - UCVM\n",
    "\n",
    "An overview of EarthScope Data Access tools"
   ]
  },
  {
   "cell_type": "code",
   "execution_count": null,
   "id": "45bdabd1-6d7f-4df0-bf76-a5fd17eb6102",
   "metadata": {},
   "outputs": [],
   "source": [
    "import webbrowser\n",
    "tools_url = \"https://ds.iris.edu/ds/nodes/dmc/tools/##\"\n",
    "# Open the URL in the default web browser\n",
    "webbrowser.open(url)"
   ]
  },
  {
   "cell_type": "markdown",
   "id": "b0d5a9e2-9c8d-4154-bc80-61e089824e70",
   "metadata": {},
   "source": [
    "---\n",
    "\n",
    "## Exercise One: Earthquake Catalog Data Access\n",
    "\n",
    "In this exercise, you will find earthquakes data service, select earthquakes of interest, download the earthquakes to your computer, and view the retrieved dataset.\n",
    "\n",
    "1. **Find**: Locate datasets using platforms like IRIS DMC or USGS Earthquake Catalog.\n",
    "\n",
    "Researchers can find earthquake catalogs using the open-data services of the U.S. Geological Survey. The U.S.G.S integrates information from a multiple seismic networks and provides open access to the resulting earthquake catalog through web interface and programmatic API.\n",
    "\n",
    "Other seismological data services also provide earthquake catalogs, which have special characteritics such as coverage region, coverage time period, magnitude completeness, and location methods."
   ]
  },
  {
   "cell_type": "markdown",
   "id": "e9ce8470",
   "metadata": {},
   "source": [
    "2. **Select**: Filter datasets based on criteria like location, time range, or magnitude.\n",
    "\n",
    "Researchers select the earthquakes they want in their catalog by defining parameters including region, start-date, end-date, minimum magnitude.\n",
    "\n",
    "In the following example, we use pyCSEP to retrieve catalogs from USGS Comcat service. In this selection process, we specify the earthquakes we want to retrieve from the catalog. Below, we use parameters that request 1 hour of earthquakes Mag 2.5+ after the Mendocino mainshock.\n",
    "\n",
    "<ol>\n",
    "<li>Start_Time: 2024-12-05T18:44:21</li>\n",
    "<li>End_time: 2024-12-05T19:44:21</li>\n",
    "<li>Minimum Mag: 2.5</li>\n",
    "<li>Min latitude: 31.5</li> \n",
    "<li>Max Latitude: 43.0</li>\n",
    "<li>Min Longitude: -125.4</li>\n",
    "<li>Max Longitude: -113.1</li>\n",
    "<li>Max Depth: 1000</li>\n",
    "</ol>"
   ]
  },
  {
   "cell_type": "code",
   "execution_count": null,
   "id": "efe98421",
   "metadata": {},
   "outputs": [],
   "source": [
    "import csep\n",
    "from csep.utils import datasets, time_utils, comcat, plots\n",
    "from csep.core import regions\n",
    "\n",
    "# set start and end date\n",
    "start_time = time_utils.strptime_to_utc_datetime('2024-12-05 18:44:21.0')\n",
    "end_time = time_utils.strptime_to_utc_datetime('2024-12-05 19:44:21.0')\n",
    "\n",
    "# The Query_Comcat methods uses these default parameters:\n",
    "# min_latitude=31.5\n",
    "# max_latitude=43.0\n",
    "# min_longitude=-125.4\n",
    "# max_longitude=-113.1\n",
    "# min_mw = 2.5\n",
    "# retrieve events in ComCat catalogue between start and end date\n",
    "catalog = csep.query_comcat(start_time, end_time)\n",
    "print(catalog)"
   ]
  },
  {
   "cell_type": "markdown",
   "id": "991abedf",
   "metadata": {},
   "source": [
    "3. **Download**: Retrieve data in formats such as CSV, SAC, or NetCDF.\n",
    "Researchers can download the data for use on their computer. \n",
    "\n",
    "Selecting the output format as json will allow viewing using Google Chrome, text editors, and other tools and software that can read json files. Now, use pyCSEP to read the downloaded catalog and plot it on a map."
   ]
  },
  {
   "cell_type": "code",
   "execution_count": null,
   "id": "c7daa9b0",
   "metadata": {},
   "outputs": [],
   "source": [
    "catalog.write_json(\"Mendocino_Seismicity_Dec_2025.json\")"
   ]
  },
  {
   "cell_type": "markdown",
   "id": "e462a7a2",
   "metadata": {},
   "source": [
    "\n",
    "4. **View**: Visualize data with tools like Python, ObsPy, or GIS software.\n",
    "\n",
    "Researchers view the data and metadata using platform and data specific tools. For earthquake catalogs, KML files can be read using Chrome Browser and Google Earth, good for visualizing the catalog. For processing the data, formats like Comma Separted Values (CSV) which can be read with text editors or spreadsheet software are often used to view data.\n"
   ]
  },
  {
   "cell_type": "code",
   "execution_count": null,
   "id": "f7d97808",
   "metadata": {},
   "outputs": [],
   "source": [
    "import csep\n",
    "import matplotlib.pyplot as plt\n",
    "# lets assume we already loaded in some catalog\n",
    "catalog = csep.load_catalog(\"Mendocino_Seismicity_Dec_2025.json\")\n",
    "\n",
    "# Filter observed catalog using the same region as the forecast\n",
    "catalog = catalog.filter_spatial(csep.core.regions.california_relm_region())\n",
    "print(catalog)\n",
    "\n",
    "# Plot the catalog\n",
    "catalog.plot()\n",
    "\n",
    "# quick plot\n",
    "fig, ax = plt.subplots()\n",
    "ax.plot(catalog.get_epoch_times(), catalog.get_cumulative_number_of_events())\n",
    "plt.show()"
   ]
  },
  {
   "cell_type": "markdown",
   "id": "f0ec87f4",
   "metadata": {},
   "source": [
    "---\n",
    "\n",
    "## Exercise Two: Observed Seismograms Data Access\n",
    "\n",
    "In this exercise, you will find earthquakes data service, select earthquakes of interest, download the earthquakes to your computer, and view the retrieved dataset.\n",
    "\n",
    "1. **Find**: Locate datasets using platforms like IRIS DMC or USGS Earthquake Catalog.\n",
    "\n",
    "Researchers can retrieve observed seismograms for significant earthquake for many stations using the U.S.G.S open data services. There is a wide variety of data access options, and researchers will select the most appropriate options based on their intended use of the seismograms.\n",
    "\n",
    "Other seismological data services also provide observed seismograms, including groups that focus on strong ground motion data used for civil engineering and earthquake engineering research.\n",
    "\n",
    "The Earthscope WILBUR interface helps users select seismograms of interest. Either by earthquake, by station, or by time."
   ]
  },
  {
   "cell_type": "code",
   "execution_count": null,
   "id": "949f9a2f",
   "metadata": {},
   "outputs": [],
   "source": [
    "import webbrowser\n",
    "event_url = \"https://ds.iris.edu/wilber3/find_event\"\n",
    "# Open the URL in the default web browser\n",
    "webbrowser.open(event_url)"
   ]
  },
  {
   "cell_type": "markdown",
   "id": "b39bde79",
   "metadata": {},
   "source": [
    "\n",
    "2. **Select**: Filter datasets based on criteria like location, time range, or magnitude.\n",
    "\n",
    "\n",
    "Use Obpsy to use data service to retrieve seismograms for a specific stations for a specific event.\n",
    "\n",
    "Researchers select the seismograms they want by defining parameters including earthquake, site, duration.\n",
    "\n",
    "As an example, retrieve the ground motions at USC from the Mag 7.0 in Northern California. We are going to use both event information and station information in our selection:\n",
    "\n",
    "For the Event we will use the recent M7.0 Northern California Event:"
   ]
  },
  {
   "cell_type": "markdown",
   "id": "f4cd2fe3",
   "metadata": {},
   "source": [
    "Use the Obspy IRIS data access client to access Station USC for Mendocino Mainshock + 5 minutes.\n",
    "\n",
    "For earthquake seismograms, researchers can specify ground motions by station time duration. Collection of seismograms from significant events are also available. The information required to retrieve our seismogram of interest, USC for the Mendacinon 7.0 uses these inputs:\n",
    "\n",
    "The station USC is approximately 1000km from the epicenter of the event, so an estimated P wave travel time of about \n",
    "\n",
    "Event Page Information Event Time. For start time, use Earthquake Origin time. For large event, request 5 minutes of 20sps broadband vertical component velocity data (BHZ). USC Station and broadband 10Hz Channel is defined as:\n",
    "\n",
    "<ol>\n",
    "<li>Start_Time: 2024-12-05T18:44:21</li>\n",
    "<li>End_time: 2024-12-05T18:49:21</li>\n",
    "<li>Network: CI</li>\n",
    "<li>Station: USC</li>\n",
    "<li>Channel : BHZ (vertical broadband - 20 sps)</li>\n",
    "<li>Location: --</li>\n",
    "<li>Quality: -</li>\n",
    "<li>Format: GeoCSV</li>\n",
    "</ol>\n",
    "\n",
    "Approximate Travel Time Calculation: Assume an average P-wave velocity of 7 km/s for this mixed path:\n",
    "<pre>\n",
    "Travel time=Distance/Velocity = 1000 km/7 km/s ≈ 143 seconds\n",
    "</pre>\n",
    "\n",
    "So, the P-wave travel time is roughly 2 minutes and 23 seconds."
   ]
  },
  {
   "cell_type": "code",
   "execution_count": null,
   "id": "babf8e0f",
   "metadata": {},
   "outputs": [],
   "source": [
    "from obspy.clients.fdsn import Client\n",
    "client = Client(\"IRIS\")\n",
    "from obspy import UTCDateTime\n",
    "t = UTCDateTime(\"2024:12:05T18:44:21.000\")\n",
    "st = client.get_waveforms(\"CI\", \"USC\", \"--\", \"BHZ\", t, t + (5 * 60))\n",
    "st.filter(type='lowpass', freq=10.0)\n",
    "print(\"Number of components retrieved: %d and number of samples retrieved: %d\"%(len(st), len(st[0])))"
   ]
  },
  {
   "cell_type": "markdown",
   "id": "5a6bc463",
   "metadata": {},
   "source": [
    "3. **Download**: Retrieve data in formats such as CSV, SAC, or NetCDF.\n",
    "\n",
    "Researchers can download the data for use on their computer. Computational models of earthquake processes will often require use of open science data sources. When downloading data, an important consideration is the data format. Select software on your computer to read a data format before you download data in that format."
   ]
  },
  {
   "cell_type": "code",
   "execution_count": null,
   "id": "368d1049",
   "metadata": {},
   "outputs": [],
   "source": [
    "st.write('Mendocino_Mainshock_USC.sac', format='SAC')"
   ]
  },
  {
   "cell_type": "markdown",
   "id": "ee327f70",
   "metadata": {},
   "source": [
    "4. **View**: Visualize data with tools like Python, ObsPy, or GIS software.\n",
    "\n",
    "Researchers view the data and metadata using platform and data specific tools. For seismograms, formats like GeoCSV can be read and plotted using programs like Excel. Seismologist often use seismogram specific visualization tools such as SAC, ObsPy, and others to view seismogram data."
   ]
  },
  {
   "cell_type": "code",
   "execution_count": null,
   "id": "1c3e754c-a054-43a6-835c-58e06470c4f0",
   "metadata": {},
   "outputs": [],
   "source": [
    "st.plot()"
   ]
  },
  {
   "cell_type": "markdown",
   "id": "ec7a2ac5",
   "metadata": {},
   "source": [
    "---\n",
    "\n",
    "## Exercise Three: Fault Geometry Model Data Access\n",
    "\n",
    "In this exercise, you will find California Fault Geometry models and view the retrieved dataset.\n",
    "\n",
    "1. **Find**: Locate datasets using platforms like IRIS DMC or USGS Earthquake Catalog.\n",
    "\n",
    "Researchers can retrieve fault geometry files from the USGS and from other sources including SCEC. The fault geometry descriptions my include location of faults at the surface, or full 3D geometry files.\n",
    "\n",
    "The USGS offers a map-based display showing USGS Fault Surface Geometry File:"
   ]
  },
  {
   "cell_type": "code",
   "execution_count": null,
   "id": "f465a6bf-720c-433e-a47f-9b8d06a46b47",
   "metadata": {},
   "outputs": [],
   "source": [
    "import webbrowser\n",
    "url = \"https://www.usgs.gov/programs/earthquake-hazards/faults\"\n",
    "# Open the URL in the default web browser\n",
    "webbrowser.open(url)"
   ]
  },
  {
   "cell_type": "markdown",
   "id": "84be9eca-bb51-48d1-9d74-68a71c77c448",
   "metadata": {},
   "source": [
    "2. **Select**: Filter datasets based on criteria like location, time range, or magnitude.\n",
    "\n",
    "Users select the fault of interest, then downloads the fault geometry files in their preferred format."
   ]
  },
  {
   "cell_type": "markdown",
   "id": "84e38eb5",
   "metadata": {},
   "source": [
    "3. **Download**: Retrieve data in formats such as CSV, SAC, or NetCDF.\n",
    "\n",
    "Researchers can download fault geometry files for use on their computer. A KMZ file containing conterminous US fault geometries is available through the USGS Web service."
   ]
  },
  {
   "cell_type": "code",
   "execution_count": null,
   "id": "0addbc45-97dd-4767-b294-14c4a693ecb5",
   "metadata": {},
   "outputs": [],
   "source": [
    "import requests\n",
    "usgs_fdb_url = (\"https://www.sciencebase.gov/catalog/item/655bebe7d34ee4b6e05cc19f\")\n",
    "response = requests.get(usgs_fdb_url)\n",
    "kml_file = \"NSHM23_FSD_v3.kml\"\n",
    "\n",
    "if response.status_code == 200:\n",
    "    with open(kml_file, 'wb') as file:\n",
    "        file.write(response.content)\n",
    "    print('File downloaded successfully')\n",
    "else:\n",
    "    print('Failed to download file')"
   ]
  },
  {
   "cell_type": "code",
   "execution_count": null,
   "id": "9431f2ff-1a5d-4baf-ab42-8f81004e19d2",
   "metadata": {},
   "outputs": [],
   "source": [
    "import requests\n",
    "usgs_fdb_url = (\"https://www.sciencebase.gov/catalog/item/655bebe7d34ee4b6e05cc19f\")\n",
    "response = requests.get(usgs_fdb_url)\n",
    "kml_file = \"NSHM23_FSD_v3.geojson\"\n",
    "\n",
    "if response.status_code == 200:\n",
    "    with open(kml_file, 'wb') as file:\n",
    "        file.write(response.content)\n",
    "    print('File downloaded successfully')\n",
    "else:\n",
    "    print('Failed to download file')"
   ]
  },
  {
   "cell_type": "markdown",
   "id": "17cee7fe",
   "metadata": {},
   "source": [
    "4. **View**: Visualize data with tools like Python, ObsPy, or GIS software.\n",
    "\n",
    "Researchers view the data and metadata using platform and data specific tools. For fault in KMZ format, google chrome can read the files."
   ]
  },
  {
   "cell_type": "markdown",
   "id": "c7fdd946",
   "metadata": {},
   "source": [
    "---\n",
    "\n",
    "## Exercise Four: Seismic Velocity Model Data Access\n",
    "\n",
    "In this exercise, you will find informatoin about California seismic velocity models and view the retrieved dataset.\n",
    "\n",
    "1. **Find**: Locate datasets using platforms like IRIS DMC or USGS Earthquake Catalog.\n",
    "\n",
    "Researchers can retrieve seismic velocity model information for California from SCEC. SCEC's seismic velocity models are access through a web browser."
   ]
  },
  {
   "cell_type": "markdown",
   "id": "181246aa",
   "metadata": {},
   "source": [
    "2. **Select**: Filter datasets based on criteria like location, time range, or magnitude.\n",
    "\n",
    "Users select the velocity model of interest, and the type of data they want (point, vertical profile, cross section etc) using a GUI Interface:\n",
    "\n",
    "<ol>\n",
    "<li> CVM-H </li>\n",
    "<li> Vertical Profile </li>\n",
    "<li> Lat: </li>\n",
    "<li> Long: </li>\n",
    "<li> Depth: </li>\n",
    "<li> Property: </li>\n",
    "</ol>"
   ]
  },
  {
   "cell_type": "markdown",
   "id": "8fcb75e3",
   "metadata": {},
   "source": [
    "3. **Download**: Retrieve data in formats such as CSV, SAC, or NetCDF.\n",
    "\n",
    "Researchers can download seismic velocity model data in csv format."
   ]
  },
  {
   "cell_type": "markdown",
   "id": "2f287fec",
   "metadata": {},
   "source": [
    "4. **View**: Visualize data with tools like Python, ObsPy, or GIS software.\n",
    "\n",
    "Researchers view the data and metadata using platform and data specific tools. For fault in KMZ format, google chrome can read the files."
   ]
  },
  {
   "cell_type": "code",
   "execution_count": null,
   "id": "bce9dc5b",
   "metadata": {},
   "outputs": [],
   "source": [
    "url = \"http://moho.scec.org/UCVM_web/web/viewer.php\"\n",
    "# Open the URL in the default web browser\n",
    "webbrowser.open(url)"
   ]
  },
  {
   "cell_type": "markdown",
   "id": "fd3546e4",
   "metadata": {},
   "source": [
    "**End of Exercise 2:**\n",
    "\n",
    "As follow-up exercise, try updating this notebook by retrieve different catalogs, seismograms, fault models, and velocity models"
   ]
  }
 ],
 "metadata": {
  "kernelspec": {
   "display_name": "Python 3 (ipykernel)",
   "language": "python",
   "name": "python3"
  },
  "language_info": {
   "codemirror_mode": {
    "name": "ipython",
    "version": 3
   },
   "file_extension": ".py",
   "mimetype": "text/x-python",
   "name": "python",
   "nbconvert_exporter": "python",
   "pygments_lexer": "ipython3",
   "version": "3.8.15"
  }
 },
 "nbformat": 4,
 "nbformat_minor": 5
}
