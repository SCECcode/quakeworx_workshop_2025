{
 "cells": [
  {
   "cell_type": "markdown",
   "id": "47c85b4a",
   "metadata": {},
   "source": [
    "# Open Science Data for Seismology\n",
    "\n",
    "This notebook introduces key open science data types in seismology and provides hands-on exercises for accessing and exploring these datasets.\n",
    "\n",
    "---\n",
    "\n",
    "## Earthquake Catalogs, Observed Seismograms, Fault Geometry Models, Seismic Velocity Models\n",
    "\n",
    "Seismology relies on diverse datasets to study the Earth's structure and seismic events:\n",
    "\n",
    "- **Earthquake Catalogs**: Databases of earthquake locations, magnitudes, and times (e.g., USGS, IRIS).\n",
    "- **Observed Seismograms**: Time-series data recorded by seismic stations.\n",
    "- **Fault Geometry Models**: Representations of fault surfaces in 3D.\n",
    "- **Seismic Velocity Models**: Maps of seismic wave speeds in the Earth's subsurface.\n",
    "\n",
    "---\n",
    "\n",
    "## Find, Select, Download, View\n",
    "\n",
    "Accessing seismological data involves these steps:\n",
    "1. **Find**: Locate datasets using platforms like IRIS DMC or USGS Earthquake Catalog.\n",
    "2. **Select**: Filter datasets based on criteria like location, time range, or magnitude.\n",
    "3. **Download**: Retrieve data in formats such as CSV, SAC, or NetCDF.\n",
    "4. **View**: Visualize data with tools like Python, ObsPy, or GIS software.\n",
    "\n",
    "---\n",
    "\n",
    "## Open Science Data Access Software:\n",
    "\n",
    "This notebook makes use of three seismological data access software distributions:\n",
    "1. Earthquake Catalogs - pyCSEP\n",
    "2. Observed Seismograms - Obspy\n",
    "3. Fault Models - wget\n",
    "4. Velocity Models - UCVM\n",
    "\n",
    "---\n",
    "\n",
    "## Exercise One: Earthquake Catalog Data Access\n",
    "\n",
    "In this exercise, you will find earthquakes data service, select earthquakes of interest, download the earthquakes to your computer, and view the retrieved dataset.\n",
    "\n",
    "1. **Find**: Locate datasets using platforms like IRIS DMC or USGS Earthquake Catalog.\n",
    "\n",
    "Researchers can find earthquake catalogs using the open-data services of the U.S. Geological Survey. The U.S.G.S integrates information from a multiple seismic networks and provides open access to the resulting earthquake catalog through web interface and programmatic API.\n",
    "\n",
    "Other seismological data services also provide earthquake catalogs, which have special characteritics such as coverage region, coverage time period, magnitude completeness, and location methods.\n"
   ]
  },
  {
   "cell_type": "markdown",
   "id": "539a0f32",
   "metadata": {},
   "source": [
    "USGS Comcat Documentation of Web Interface\n",
    "**URL**\n",
    "\n",
    "https://earthquake.usgs.gov/fdsnws/event/1/[METHOD[?PARAMETERS]]\n",
    "\n",
    "**Methods**\n",
    "<pre>\n",
    "application.json\n",
    "    request known enumerated parameter values for the interface. \n",
    "\n",
    "        https://earthquake.usgs.gov/fdsnws/event/1/application.json\n",
    "\n",
    "application.wadl\n",
    "    request WADL for the interface. \n",
    "\n",
    "        https://earthquake.usgs.gov/fdsnws/event/1/application.wadl\n",
    "\n",
    "catalogs\n",
    "    request available catalogs.\n",
    "\n",
    "        https://earthquake.usgs.gov/fdsnws/event/1/catalogs\n",
    "\n",
    "</pre>"
   ]
  },
  {
   "cell_type": "markdown",
   "id": "e9ce8470",
   "metadata": {},
   "source": [
    "2. **Select**: Filter datasets based on criteria like location, time range, or magnitude.\n",
    "\n",
    "Researchers select the earthquakes they want in their catalog by defining parameters including region, start-date, end-date, minimum magnitude.\n",
    "\n",
    "Use pyCSEP to retrieve catalogs from USGS Comcat service using the parameters for 1 hour of seismicity after the Mendocino mainshock.\n",
    "\n",
    "<ol>\n",
    "<li>Start_Time: 2024-12-05T18:44:21</li>\n",
    "<li>End_time: 2024-12-05T18:49:21</li>\n",
    "<li>Network: CI</li>\n",
    "<li>Station: USC</li>\n",
    "<li>Channel : BHZ (vertical broadband - 20 sps)</li>\n",
    "<li>Location: --</li>\n",
    "<li>Quality: -</li>\n",
    "<li>Format: GeoCSV</li>\n",
    "</ol>"
   ]
  },
  {
   "cell_type": "code",
   "execution_count": 1,
   "id": "efe98421",
   "metadata": {},
   "outputs": [
    {
     "name": "stdout",
     "output_type": "stream",
     "text": [
      "Fetched ComCat catalog in 0.22763395309448242 seconds.\n",
      "\n",
      "Downloaded catalog from ComCat with following parameters\n",
      "Start Date: 2024-12-05 18:44:21.110000+00:00\n",
      "End Date: 2024-12-05 19:38:07.690000+00:00\n",
      "Min Latitude: 38.8018333333333 and Max Latitude: 40.4435\n",
      "Min Longitude: -125.021666666667 and Max Longitude: -119.0383\n",
      "Min Magnitude: 2.52\n",
      "Found 21 events in the ComCat catalog.\n",
      "\n",
      "        Name: None\n",
      "\n",
      "        Start Date: 2024-12-05 18:44:21.110000+00:00\n",
      "        End Date: 2024-12-05 19:38:07.690000+00:00\n",
      "\n",
      "        Latitude: (38.8018333333333, 40.4435)\n",
      "        Longitude: (-125.021666666667, -119.0383)\n",
      "\n",
      "        Min Mw: 2.52\n",
      "        Max Mw: 7.0\n",
      "\n",
      "        Event Count: 21\n",
      "        \n"
     ]
    }
   ],
   "source": [
    "import csep\n",
    "from csep.utils import datasets, time_utils, comcat, plots\n",
    "from csep.core import regions, catalog_evaluations\n",
    "\n",
    "# set start and end date\n",
    "start_time = time_utils.strptime_to_utc_datetime('2024-12-05 18:44:21.0')\n",
    "end_time = time_utils.strptime_to_utc_datetime('2024-12-05 19:44:21.0')\n",
    "# retrieve events in ComCat catalogue between start and end date\n",
    "catalog = csep.query_comcat(start_time, end_time)\n",
    "min_mw = 2.5 # minimum magnitude\n",
    "max_mw = 8.95 # max magnitude after which is just one bin\n",
    "dmw = 0.1 # bin width\n",
    "\n",
    "# Create space and magnitude regions. The forecast is already filtered in space and magnitude\n",
    "magnitudes = regions.magnitude_bins(min_mw, max_mw, dmw)\n",
    "region = regions.california_relm_region()\n",
    "\n",
    "# Bind region information to the forecast \n",
    "space_magnitude_region = regions.create_space_magnitude_region(region, magnitudes)\n",
    "\n",
    "\n",
    "# filter magnitude below 3.95\n",
    "catalog.filter('magnitude >= 2.5')\n",
    "# filter events outside spatial region\n",
    "catalog.filter_spatial(space_magnitude_region)\n",
    "# print summary information \n",
    "print(catalog)"
   ]
  },
  {
   "cell_type": "markdown",
   "id": "991abedf",
   "metadata": {},
   "source": [
    "3. **Download**: Retrieve data in formats such as CSV, SAC, or NetCDF.\n",
    "Researchers can download the data for use on their computer. \n",
    "\n",
    "Selecting the output format as geoCSV will allow viewing using Excel and other programs."
   ]
  },
  {
   "cell_type": "code",
   "execution_count": 21,
   "id": "c7daa9b0",
   "metadata": {},
   "outputs": [],
   "source": [
    "catalog.write_json(\"Mendocino_Seismicity_Dec_2025.json\")"
   ]
  },
  {
   "cell_type": "markdown",
   "id": "e462a7a2",
   "metadata": {},
   "source": [
    "\n",
    "4. **View**: Visualize data with tools like Python, ObsPy, or GIS software.\n",
    "\n",
    "Researchers view the data and metadata using platform and data specific tools. For earthquake catalogs, KML files can be read using Chrome Browser and Google Earth, good for visualizing the catalog. For processing the data, formats like Comma Separted Values (CSV) which can be read with text editors or spreadsheet software are often used to view data.\n"
   ]
  },
  {
   "cell_type": "code",
   "execution_count": null,
   "id": "f7d97808",
   "metadata": {},
   "outputs": [],
   "source": [
    "import csep\n",
    "import matplotlib.pyplot as plt\n",
    "# lets assume we already loaded in some catalog\n",
    "catalog = csep.load_catalog(\"Mendocino_Seismicity_Dec_2025.json\")\n",
    "\n",
    "# Filter observed catalog using the same region as the forecast\n",
    "catalog = catalog.filter_spatial(regions.california_relm_region)\n",
    "print(catalog)\n",
    "\n",
    "# Plot the catalog\n",
    "catalog.plot()\n",
    "\n",
    "# quick and dirty plot\n",
    "fig, ax = plt.subplots()\n",
    "ax.plot(catalog.get_epoch_times(), catalog.get_cumulative_number_of_events())\n",
    "plt.show()"
   ]
  },
  {
   "cell_type": "markdown",
   "id": "f0ec87f4",
   "metadata": {},
   "source": [
    "## Exercise Two: Observed Seismograms Data Access\n",
    "\n",
    "In this exercise, you will find earthquakes data service, select earthquakes of interest, download the earthquakes to your computer, and view the retrieved dataset.\n",
    "\n",
    "1. **Find**: Locate datasets using platforms like IRIS DMC or USGS Earthquake Catalog.\n",
    "\n",
    "Researchers can retrieve observed seismograms for significant earthquake for many stations using the U.S.G.S open data services. There is a wide variety of data access options, and researchers will select the most appropriate options based on their intended use of the seismograms.\n",
    "\n",
    "Other seismological data services also provide observed seismograms, including groups that focus on strong ground motion data used for civil engineering and earthquake engineering research."
   ]
  },
  {
   "cell_type": "code",
   "execution_count": null,
   "id": "949f9a2f",
   "metadata": {},
   "outputs": [],
   "source": [
    "from obspy import read\n",
    "st = read()  # load example seismogram\n",
    "st.filter(type='highpass', freq=3.0)\n",
    "st = st.select(component='Z')\n",
    "st.plot()"
   ]
  },
  {
   "cell_type": "markdown",
   "id": "b39bde79",
   "metadata": {},
   "source": [
    "\n",
    "2. **Select**: Filter datasets based on criteria like location, time range, or magnitude.\n",
    "\n",
    "\n",
    "Use Obpsy to use data service to retrieve seismograms for a specific stations for a specific event.\n",
    "\n",
    "Researchers select the seismograms they want by defining parameters including earthquake, site, duration.\n",
    "\n",
    "As an example, retrieve the ground motions at USC from the Mag 7.0 in Northern California. We are going to use both event information and station information in our selection:\n",
    "\n",
    "For the Event we will use the recent M7.0 Northern California Event:\n",
    "\n",
    "Visit the URL Builder to determine what selection criteria is needed:\n"
   ]
  },
  {
   "cell_type": "code",
   "execution_count": null,
   "id": "5b3ab0b8",
   "metadata": {},
   "outputs": [],
   "source": [
    "st = read()  # load example seismogram\n",
    "st.filter(type='highpass', freq=3.0)\n",
    "st = st.select(component='Z')\n",
    "st.plot()"
   ]
  },
  {
   "cell_type": "markdown",
   "id": "f4cd2fe3",
   "metadata": {},
   "source": [
    "Use the Obspy IRIS data access client to access Station USC for Mendocino Mainshock + 5 minutes.\n",
    "\n",
    "For earthquake seismograms, researchers can specify ground motions by station time duration. Collection of seismograms from significant events are also available. The information required to retrieve our seismogram of interest, USC for the Mendacinon 7.0 uses these inputs:\n",
    "\n",
    "The station USC is approximately 1000km from the epicenter of the event, so an estimated P wave travel time of about \n",
    "\n",
    "Event Page Information Event Time. For start time, use Earthquake Origin time. For large event, request 5 minutes of 20sps broadband vertical component velocity data (BHZ). USC Station and broadband 10Hz Channel is defined as:\n",
    "\n",
    "<ol>\n",
    "<li>Start_Time: 2024-12-05T18:44:21</li>\n",
    "<li>End_time: 2024-12-05T18:49:21</li>\n",
    "<li>Network: CI</li>\n",
    "<li>Station: USC</li>\n",
    "<li>Channel : BHZ (vertical broadband - 20 sps)</li>\n",
    "<li>Location: --</li>\n",
    "<li>Quality: -</li>\n",
    "<li>Format: GeoCSV</li>\n",
    "</ol>\n",
    "\n",
    "Approximate Travel Time Calculation: Assume an average P-wave velocity of 7 km/s for this mixed path:\n",
    "<pre>\n",
    "Travel time=Distance/Velocity = 1000 km/7 km/s ≈ 143 seconds\n",
    "</pre>\n",
    "\n",
    "So, the P-wave travel time is roughly 2 minutes and 23 seconds."
   ]
  },
  {
   "cell_type": "code",
   "execution_count": null,
   "id": "babf8e0f",
   "metadata": {},
   "outputs": [],
   "source": [
    "from obspy.clients.fdsn import Client\n",
    "client = Client(\"IRIS\")\n",
    "from obspy import UTCDateTime\n",
    "t = UTCDateTime(\"2024:12:05T18:44:21.000\")\n",
    "st = client.get_waveforms(\"CI\", \"USC\", \"--\", \"BHZ\", t, t + (5 * 60))\n",
    "st.filter(type='lowpass', freq=10.0)\n",
    "print(\"Number of components retrieved: %d and number of samples retrieved: %d\"%(len(st), len(st[0])))"
   ]
  },
  {
   "cell_type": "markdown",
   "id": "5a6bc463",
   "metadata": {},
   "source": [
    "3. **Download**: Retrieve data in formats such as CSV, SAC, or NetCDF.\n",
    "\n",
    "Researchers can download the data for use on their computer. Computational models of earthquake processes will often require use of open science data sources. When downloading data, an important consideration is the data format. Make sure to identify how you will read a data format before you donwload a data in it.\n",
    "\n"
   ]
  },
  {
   "cell_type": "code",
   "execution_count": 16,
   "id": "368d1049",
   "metadata": {},
   "outputs": [],
   "source": [
    "st.write('Mendocino_Mainshock_USC.sac', format='SAC')"
   ]
  },
  {
   "cell_type": "markdown",
   "id": "ee327f70",
   "metadata": {},
   "source": [
    "4. **View**: Visualize data with tools like Python, ObsPy, or GIS software.\n",
    "\n",
    "Researchers view the data and metadata using platform and data specific tools. For seismograms, formats like GeoCSV can be read and plotted using programs like Excel. Seismologist often use seismogram specific visualization tools such as SAC, ObsPy, and others to view seismogram data."
   ]
  },
  {
   "cell_type": "code",
   "execution_count": null,
   "id": "1c3e754c-a054-43a6-835c-58e06470c4f0",
   "metadata": {},
   "outputs": [],
   "source": [
    "st.plot()"
   ]
  },
  {
   "cell_type": "markdown",
   "id": "ec7a2ac5",
   "metadata": {},
   "source": [
    "## Exercise Three: Fault Geometry Model Data Access\n",
    "\n",
    "In this exercise, you will find California Fault Geometry models and view the retrieved dataset.\n",
    "\n",
    "1. **Find**: Locate datasets using platforms like IRIS DMC or USGS Earthquake Catalog.\n",
    "\n",
    "Researchers can retrieve fault geometry files from the USGS and from other sources including SCEC. The fault geometry descriptions my include location of faults at the surface, or full 3D geometry files.\n",
    "\n",
    "Find fault geometry options at the USGS Fault Surface Geometry File:"
   ]
  },
  {
   "cell_type": "code",
   "execution_count": null,
   "id": "f465a6bf-720c-433e-a47f-9b8d06a46b47",
   "metadata": {},
   "outputs": [],
   "source": [
    "import webbrowser\n",
    "url = \"https://www.usgs.gov/programs/earthquake-hazards/faults\"\n",
    "# Open the URL in the default web browser\n",
    "webbrowser.open(url)"
   ]
  },
  {
   "cell_type": "markdown",
   "id": "088dc730-b3ca-41c6-89e5-86e01750f0ee",
   "metadata": {},
   "source": [
    "2. **Select**: Filter datasets based on criteria like location, time range, or magnitude.\n",
    "\n",
    "Users select the fault of interest through a GUI Interface:"
   ]
  },
  {
   "cell_type": "code",
   "execution_count": null,
   "id": "ecea034c-a569-45b1-8969-7fa4078410d2",
   "metadata": {},
   "outputs": [],
   "source": [
    "url = \"https://usgs.maps.arcgis.com/apps/webappviewer/index.html?id=5a6038b3a1684561a9b0aadf88412fcf\"\n",
    "# Open the URL in the default web browser\n",
    "webbrowser.open(url)"
   ]
  },
  {
   "cell_type": "markdown",
   "id": "84e38eb5",
   "metadata": {},
   "source": [
    "3. **Download**: Retrieve data in formats such as CSV, SAC, or NetCDF.\n",
    "\n",
    "Researchers can download fault geometry files for use on their computer. A KMZ file containing conterminous US fault geometries is available through the USGS Web service."
   ]
  },
  {
   "cell_type": "code",
   "execution_count": null,
   "id": "32d48db0",
   "metadata": {},
   "outputs": [],
   "source": [
    "url = \" https://earthquake.usgs.gov/static/lfs/nshm/qfaults/qfaults.kmz\"\n",
    "# Open the URL in the default web browser\n",
    "webbrowser.open(url)"
   ]
  },
  {
   "cell_type": "markdown",
   "id": "17cee7fe",
   "metadata": {},
   "source": [
    "4. **View**: Visualize data with tools like Python, ObsPy, or GIS software.\n",
    "\n",
    "Researchers view the data and metadata using platform and data specific tools. For fault in KMZ format, google chrome can read the files."
   ]
  },
  {
   "cell_type": "code",
   "execution_count": null,
   "id": "b2bca77d",
   "metadata": {},
   "outputs": [],
   "source": [
    "url = \" https://earthquake.usgs.gov/static/lfs/nshm/qfaults/qfaults.kmz\"\n",
    "# Open the URL in the default web browser\n",
    "webbrowser.open(url)"
   ]
  },
  {
   "cell_type": "markdown",
   "id": "c7fdd946",
   "metadata": {},
   "source": [
    "## Exercise Four: Seismic Velocity Model Data Access\n",
    "\n",
    "In this exercise, you will find informatoin about California seismic velocity models and view the retrieved dataset.\n",
    "\n",
    "1. **Find**: Locate datasets using platforms like IRIS DMC or USGS Earthquake Catalog.\n",
    "\n",
    "Researchers can retrieve seismic velocity model information for California from SCEC. SCEC's seismic velocity models are access through a web browser."
   ]
  },
  {
   "cell_type": "code",
   "execution_count": null,
   "id": "12b32897",
   "metadata": {},
   "outputs": [],
   "source": [
    "url = \"http://moho.scec.org/UCVM_web/web/viewer.php\"\n",
    "# Open the URL in the default web browser\n",
    "webbrowser.open(url)"
   ]
  },
  {
   "cell_type": "markdown",
   "id": "181246aa",
   "metadata": {},
   "source": [
    "2. **Select**: Filter datasets based on criteria like location, time range, or magnitude.\n",
    "\n",
    "Users select the velocity model of interest, and the type of data they want (point, vertical profile, cross section etc) using a GUI Interface:\n",
    "\n",
    "<ol>\n",
    "<li> CVM-H </li>\n",
    "<li> Vertical Profile </li>\n",
    "<li> Lat: </li>\n",
    "<li> Long: </li>\n",
    "<li> Depth: </li>\n",
    "<li> Property: </li>\n",
    "</ol>"
   ]
  },
  {
   "cell_type": "code",
   "execution_count": null,
   "id": "e61613b4",
   "metadata": {},
   "outputs": [],
   "source": [
    "url = \"http://moho.scec.org/UCVM_web/web/viewer.php\"\n",
    "# Open the URL in the default web browser\n",
    "webbrowser.open(url)"
   ]
  },
  {
   "cell_type": "markdown",
   "id": "8fcb75e3",
   "metadata": {},
   "source": [
    "3. **Download**: Retrieve data in formats such as CSV, SAC, or NetCDF.\n",
    "\n",
    "Researchers can download seismic velocity model data in csv format."
   ]
  },
  {
   "cell_type": "code",
   "execution_count": null,
   "id": "ad177c2e",
   "metadata": {},
   "outputs": [],
   "source": [
    "url = \"http://moho.scec.org/UCVM_web/web/viewer.php\"\n",
    "# Open the URL in the default web browser\n",
    "webbrowser.open(url)"
   ]
  },
  {
   "cell_type": "markdown",
   "id": "2f287fec",
   "metadata": {},
   "source": [
    "4. **View**: Visualize data with tools like Python, ObsPy, or GIS software.\n",
    "\n",
    "Researchers view the data and metadata using platform and data specific tools. For fault in KMZ format, google chrome can read the files."
   ]
  },
  {
   "cell_type": "code",
   "execution_count": null,
   "id": "bce9dc5b",
   "metadata": {},
   "outputs": [],
   "source": [
    "url = \"http://moho.scec.org/UCVM_web/web/viewer.php\"\n",
    "# Open the URL in the default web browser\n",
    "webbrowser.open(url)"
   ]
  },
  {
   "cell_type": "markdown",
   "id": "cd3a8958",
   "metadata": {},
   "source": []
  },
  {
   "cell_type": "markdown",
   "id": "fd3546e4",
   "metadata": {},
   "source": [
    "**End of Exercise 1:**\n",
    "\n",
    "In the next exercise, we will review open seismological data access methods, using programmatic APIs."
   ]
  },
  {
   "cell_type": "markdown",
   "id": "33ac4381",
   "metadata": {},
   "source": []
  }
 ],
 "metadata": {
  "kernelspec": {
   "display_name": "quakeworx-notebook-env",
   "language": "python",
   "name": "python3"
  },
  "language_info": {
   "codemirror_mode": {
    "name": "ipython",
    "version": 3
   },
   "file_extension": ".py",
   "mimetype": "text/x-python",
   "name": "python",
   "nbconvert_exporter": "python",
   "pygments_lexer": "ipython3",
   "version": "3.9.21"
  }
 },
 "nbformat": 4,
 "nbformat_minor": 5
}
