{
 "cells": [
  {
   "cell_type": "markdown",
   "id": "47c85b4a",
   "metadata": {},
   "source": [
    "# Open Science Data for Seismology\n",
    "\n",
    "This notebook introduces key open science data types in seismology and provides hands-on exercises for accessing and exploring these datasets.\n",
    "\n",
    "---\n",
    "\n",
    "## Earthquake Catalogs, Observed Seismograms, Fault Geometry Models, Seismic Velocity Models\n",
    "\n",
    "Seismology relies on diverse datasets to study the Earth's structure and seismic events:\n",
    "\n",
    "- **Earthquake Catalogs**: Databases of earthquake locations, magnitudes, and times (e.g., USGS, IRIS).\n",
    "- **Observed Seismograms**: Time-series data recorded by seismic stations.\n",
    "- **Fault Geometry Models**: Representations of fault surfaces in 3D.\n",
    "- **Seismic Velocity Models**: Maps of seismic wave speeds in the Earth's subsurface.\n",
    "\n",
    "### Example Image: \n",
    "![Seismic Velocity Model](https://example.com/velocity_model.png)  \n",
    "(*Replace with an actual image path or URL*)\n",
    "\n",
    "---\n",
    "\n",
    "## Find, Select, Download, View\n",
    "\n",
    "Accessing seismological data involves these steps:\n",
    "1. **Find**: Locate datasets using platforms like IRIS DMC or USGS Earthquake Catalog.\n",
    "2. **Select**: Filter datasets based on criteria like location, time range, or magnitude.\n",
    "3. **Download**: Retrieve data in formats such as CSV, SAC, or NetCDF.\n",
    "4. **View**: Visualize data with tools like Python, ObsPy, or GIS software.\n",
    "\n",
    "---\n",
    "\n",
    "## Exercise One: Earthquake Catalog Data Access\n",
    "\n",
    "In this exercise, you will find earthquakes data service, select earthquakes of interest, download the earthquakes to your computer, and view the retrieved dataset.\n",
    "\n",
    "1. **Find**: Locate datasets using platforms like IRIS DMC or USGS Earthquake Catalog.\n",
    "Researchers can find earthquake catalogs using the open-data services of the U.S. Geological Survey. The U.S.G.S integrates information from a multiple seismic networks and provides open access to the resulting earthquake catalog through web interface and programmatic API.\n",
    "\n",
    "Other seismological data services also provide earthquake catalogs, which have special characteritics such as coverage region, coverage time period, magnitude completeness, and location methods.\n"
   ]
  },
  {
   "cell_type": "markdown",
   "id": "1b67ef24",
   "metadata": {},
   "source": [
    "This class introduces students to the basic steps of working with open science data: Find, Select, Download, and View. These steps align with key principles of the FAIR data guidelines and the broader open science frameworks developed by researchers such as Wilkinson et al. and organizations like Research Data Alliance (RDA), Earth Science Information Partners (ESIP), and DataONE.\"\n",
    "\n",
    "Exercises will show how to access research data used in seismological simulations. The workshop show how to find, retrieve and use open seismological data including earthquake catalogs, observed seismograms, fault geometry models, seismic velocity models."
   ]
  },
  {
   "cell_type": "code",
   "execution_count": 3,
   "id": "213c3b52",
   "metadata": {},
   "outputs": [
    {
     "data": {
      "text/plain": [
       "True"
      ]
     },
     "execution_count": 3,
     "metadata": {},
     "output_type": "execute_result"
    }
   ],
   "source": [
    "import webbrowser\n",
    "url = \"https://earthquake.usgs.gov/earthquakes/search/\"\n",
    "\n",
    "# Open the URL in the default web browser\n",
    "webbrowser.open(url)"
   ]
  },
  {
   "cell_type": "markdown",
   "id": "e9ce8470",
   "metadata": {},
   "source": [
    "\n",
    "2. **Select**: Filter datasets based on criteria like location, time range, or magnitude.\n",
    "Research select the earthquakes they want in their catalog by defining parameters including region, start-date, end-date, minimum magnitude.\n",
    "\n",
    "In browser User selects:\n",
    "Magnitude: 4.5+\n",
    "Date & Time: Past 30 Days\n",
    "Geographical Region: Conterminous US\n",
    "\n",
    "https://earthquake.usgs.gov/earthquakes/search/\n",
    "\n",
    "Search Results: 167 earthquakes\n"
   ]
  },
  {
   "cell_type": "code",
   "execution_count": 2,
   "id": "dc595664",
   "metadata": {},
   "outputs": [
    {
     "data": {
      "text/plain": [
       "True"
      ]
     },
     "execution_count": 2,
     "metadata": {},
     "output_type": "execute_result"
    }
   ],
   "source": [
    "url = \"https://earthquake.usgs.gov/earthquakes/map/?extent=7.53676%2C-145.98633&extent=60.15244%2C-43.94531&range=search&timeZone=utc&search=%7B%22name%22%3A%22Search+Results%22%2C%22params%22%3A%7B%22starttime%22%3A%222024-12-07+00%3A00%3A00%22%2C%22endtime%22%3A%222024-12-14+23%3A59%3A59%22%2C%22maxlatitude%22%3A50%2C%22minlatitude%22%3A24.6%2C%22maxlongitude%22%3A-65%2C%22minlongitude%22%3A-125%2C%22minmagnitude%22%3A2.5%2C%22orderby%22%3A%22time%22%7D%7D\"\n",
    "# Open the URL in the default web browser\n",
    "webbrowser.open(url)"
   ]
  },
  {
   "cell_type": "markdown",
   "id": "991abedf",
   "metadata": {},
   "source": [
    "\n",
    "\n",
    "3. **Download**: Retrieve data in formats such as CSV, SAC, or NetCDF.\n",
    "Researchers can download the data for use on their computer. Computational models of earthquake processes will often require use of open science data sources. When downloading data, an important consideration is the data format. Make sure to identify how you will read a data format before you donwload a data in it.\n",
    "\n",
    "For earthquake catalog, return to the earthquake catalog search page, specify the same search paramters, but on the USGS page Format Options:\n",
    "Format: KML\n",
    "KML Specific Options : Color by depth\n",
    "Order By: Time - Newest First\n",
    "Limit Results: (leave blank) \n",
    "\n",
    "If a Download Button Appears, Select Download:\n"
   ]
  },
  {
   "cell_type": "code",
   "execution_count": null,
   "id": "c7daa9b0",
   "metadata": {},
   "outputs": [],
   "source": [
    "url = \"https://earthquake.usgs.gov/earthquakes/search/\"\n",
    "\n",
    "# Open the URL in the default web browser\n",
    "webbrowser.open(url)"
   ]
  },
  {
   "cell_type": "markdown",
   "id": "e462a7a2",
   "metadata": {},
   "source": [
    "\n",
    "4. **View**: Visualize data with tools like Python, ObsPy, or GIS software.\n",
    "Researchers view the data and metadata using platform and data specific tools. For earthquake catalogs, KML files can be read using Chrome Browser and Google Earth, good for visualizing the catalog. For processing the data, formats like Comma Separted Values (CSV) which can be read with text editors or spreadsheet software are often used to view data.\n"
   ]
  },
  {
   "cell_type": "code",
   "execution_count": null,
   "id": "f7d97808",
   "metadata": {},
   "outputs": [],
   "source": [
    "\n",
    "\n",
    "url = \"https://earthquake.usgs.gov/earthquakes/search/\"\n",
    "\n",
    "# Open the URL in the default web browser\n",
    "webbrowser.open(url)"
   ]
  },
  {
   "cell_type": "markdown",
   "id": "f0ec87f4",
   "metadata": {},
   "source": [
    "## Exercise Two: Observed Seismograms Data Access\n",
    "\n",
    "In this exercise, you will find earthquakes data service, select earthquakes of interest, download the earthquakes to your computer, and view the retrieved dataset.\n",
    "\n",
    "1. **Find**: Locate datasets using platforms like IRIS DMC or USGS Earthquake Catalog.\n",
    "Researchers can retrieve observed seismograms for significant earthquake for many stations using the U.S.G.S open data services. There is a wide variety of data access options, and researchers will select the most appropriate options based on their intended use of the seismograms.\n",
    "\n",
    "Other seismological data services also provide observed seismograms, including groups that focus on strong ground motion data used for civil engineering and earthquake engineering research."
   ]
  },
  {
   "cell_type": "code",
   "execution_count": 4,
   "id": "949f9a2f",
   "metadata": {},
   "outputs": [
    {
     "data": {
      "text/plain": [
       "True"
      ]
     },
     "execution_count": 4,
     "metadata": {},
     "output_type": "execute_result"
    }
   ],
   "source": [
    "url = \"https://www.iris.edu/hq/programs/epo/resources_for_viewing_seismograms\"\n",
    "\n",
    "# Open the URL in the default web browser\n",
    "webbrowser.open(url)"
   ]
  },
  {
   "cell_type": "markdown",
   "id": "b39bde79",
   "metadata": {},
   "source": [
    "2. **Select**: Filter datasets based on criteria like location, time range, or magnitude.\n",
    "Use EarthScope SAGE data service to retrieve seismograms for a specific event.\n",
    "IRIS URL Builder to specific data for a Northern California Mainshock:\n",
    "\n",
    "Researchers select the seismograms they want by defining parameters including earthquake, site, duration.\n",
    "\n",
    "As an example, retrieve the ground motions at USC from the Mag 7.0 in Northern California. We are going to use both event information and station information in our selection:\n",
    "\n",
    "For the Event we will use the recent M7.0 Northern California Event:\n",
    "\n",
    "Visit the URL Builder to determine what selection criteria is needed:\n"
   ]
  },
  {
   "cell_type": "code",
   "execution_count": null,
   "id": "5b3ab0b8",
   "metadata": {},
   "outputs": [],
   "source": [
    "url = \"https://service.iris.edu/fdsnws/dataselect/docs/1/builder/\"\n",
    "# Open the URL in the default web browser\n",
    "webbrowser.open(url)"
   ]
  },
  {
   "cell_type": "markdown",
   "id": "f4cd2fe3",
   "metadata": {},
   "source": [
    "Visit the IRIS Event Page to determine the event origin time:"
   ]
  },
  {
   "cell_type": "code",
   "execution_count": null,
   "id": "babf8e0f",
   "metadata": {},
   "outputs": [],
   "source": [
    "url = \"https://ds.iris.edu/ds/nodes/dmc/tools/event/11909383/\n",
    "# Open the URL in the default web browser\n",
    "webbrowser.open(url)\n",
    "\n",
    "Event Time: 2024-12-05 18:44:21\"\n"
   ]
  },
  {
   "cell_type": "markdown",
   "id": "5a6bc463",
   "metadata": {},
   "source": [
    "3. **Download**: Retrieve data in formats such as CSV, SAC, or NetCDF.\n",
    "Researchers can download the data for use on their computer. Computational models of earthquake processes will often require use of open science data sources. When downloading data, an important consideration is the data format. Make sure to identify how you will read a data format before you donwload a data in it.\n",
    "\n",
    "For earthquake seismograms, researchers can specify ground motions by station time duration. Collection of seismograms from significant events are also available. The information required to retrieve our seismogram of interest, USC for the Mendacinon 7.0 uses these inputs:\n",
    "\n",
    "Event Page Information Event Time: 2024-12-05 18:44:21\n",
    "\n",
    "We plan to request 5 minutes of 20 sample per second data.\n",
    "\n",
    "The USC Station and broadband 10Hz Channel is defined as:\n",
    "\n",
    "Network: CI\n",
    "Station: USC\n",
    "Channel : BHZ (vertical broadband - 20 sps)\n",
    "Location: --\n",
    "Start Time: 2024-12-05 18:44:21\n",
    "End Time: 2024-12-05 18:49:21\n",
    "Quality: -\n",
    "Format: GeoCSV\n"
   ]
  },
  {
   "cell_type": "code",
   "execution_count": null,
   "id": "368d1049",
   "metadata": {},
   "outputs": [],
   "source": [
    "url = \"https://service.iris.edu/fdsnws/event/1/query?starttime=2024-11-14&endtime=2024-12-14T23%3A59%3A59.999999&minmagnitude=3&maxmagnitude=10&mindepth=0&maxdepth=6371&limit=10000&output=text\"\n",
    "\n",
    "# Open the URL in the default web browser\n",
    "webbrowser.open(url)"
   ]
  },
  {
   "cell_type": "markdown",
   "id": "ee327f70",
   "metadata": {},
   "source": [
    "\n",
    "4. **View**: Visualize data with tools like Python, ObsPy, or GIS software.\n",
    "Researchers view the data and metadata using platform and data specific tools. For seismograms, formats like GeoCSV can be read and plotted using programs like Excel. Seismologist often use seismogram specific visualization tools such as SAC, ObsPy, and others to view seismogram data."
   ]
  },
  {
   "cell_type": "markdown",
   "id": "ec7a2ac5",
   "metadata": {},
   "source": [
    "## Exercise Three: Fault Geometry Model Data Access\n",
    "\n",
    "In this exercise, you will find earthquakes data service, select earthquakes of interest, download the earthquakes to your computer, and view the retrieved dataset.\n",
    "\n",
    "1. **Find**: Locate datasets using platforms like IRIS DMC or USGS Earthquake Catalog.\n",
    "Researchers can retrieve observed seismograms for significant earthquake for many stations using the U.S.G.S open data services. There is a wide variety of data access options, and researchers will select the most appropriate options based on their intended use of the seismograms.\n",
    "\n",
    "Other seismological data services also provide observed seismograms, including groups that focus on strong ground motion data used for civil engineering and earthquake engineering research."
   ]
  },
  {
   "cell_type": "code",
   "execution_count": null,
   "id": "52abdae1",
   "metadata": {},
   "outputs": [],
   "source": [
    "\n",
    "\n",
    "Four data types: Four steps to using most datasets:\n",
    "\n",
    "Earthquake Catalog:\n",
    "Discover https://earthquake.usgs.gov/data/comcat/\n",
    "Select: https://earthquake.usgs.gov/earthquakes/search/\n",
    "Download: query.kml\n",
    "Read: Chrome Browser\n",
    "\n",
    "Earthquake Seismograms:\n",
    "Discover: https://www.iris.edu/hq/programs/epo/resources_for_viewing_seismograms\n",
    "Select: https://ds.iris.edu/wilber3/find_event\n",
    "Download: query.kml\n",
    "Read: Chrome Browser\n",
    "\n",
    "Fault Surface Geometry File:\n",
    "Discover: https://www.usgs.gov/programs/earthquake-hazards/faults\n",
    "Select: https://usgs.maps.arcgis.com/apps/webappviewer/index.html\n",
    "Download: https://earthquake.usgs.gov/static/lfs/nshm/qfaults/qfaults.kmz\n",
    "Read: Chrome Browser\n",
    "\n",
    "\n",
    "Seismic Velocity Model:\n",
    "Discover: http://moho.scec.org/UCVM_web/web/viewer.php\n",
    "Select: http://moho.scec.org/UCVM_web/web/viewer.php Search\n",
    "Download: bin, json, png\n",
    "Read: Chrome Browser\n",
    "\n"
   ]
  },
  {
   "cell_type": "markdown",
   "id": "cd3a8958",
   "metadata": {},
   "source": []
  },
  {
   "cell_type": "code",
   "execution_count": null,
   "id": "da855e22-0bb6-46df-bbd0-09be2e6ee409",
   "metadata": {},
   "outputs": [],
   "source": [
    "import webbrowser\n",
    "url = \"https://www.sciencebase.gov/catalog/item/655bebe7d34ee4b6e05cc19f\"\n",
    "\n",
    "# Open the URL in the default web browser\n",
    "webbrowser.open(url)"
   ]
  },
  {
   "cell_type": "code",
   "execution_count": null,
   "id": "36c0977c-0b98-4ced-82eb-4e698acabae0",
   "metadata": {},
   "outputs": [],
   "source": [
    "import os\n",
    "# KMl File Download\n",
    "usgs_fdb_url = \"https://www.sciencebase.gov/catalog/item/655bebe7d34ee4b6e05cc19f\"\n",
    "kml_file = \"NSHM23_FSD_v3.kml\"\n",
    "geojson_file = \"NSHM23_FSD_v3.geojson\"\n",
    "\n",
    "cmd = f\"wget '{usgs_fdb_url}?name={kml_file}' -O ./{kml_file}\"\n",
    "print(cmd)\n",
    "!{cmd}\n",
    "\n",
    "cmd2 = f\"wget '{usgs_fdb_url}?name={geojson_file}' -O ./{geojson_file}\"\n",
    "print(cmd2)\n",
    "!{cmd2}"
   ]
  },
  {
   "cell_type": "code",
   "execution_count": null,
   "id": "25afe19c-4ee2-4c63-ae06-8c9c0b0db130",
   "metadata": {},
   "outputs": [],
   "source": [
    "import os\n",
    "import json\n",
    "import time\n",
    "import itertools\n",
    "import datetime\n",
    "import cartopy\n",
    "# Third-party Imports\n",
    "import numpy\n",
    "import numpy as np\n",
    "from scipy import ndimage as nd\n",
    "import matplotlib.pyplot as plt\n",
    "import matplotlib.pyplot as pyplot\n",
    "import matplotlib.pyplot as plot\n",
    "import matplotlib.patches as mpatches\n",
    "import csep\n",
    "import pandas as pd\n",
    "import libcomcat\n",
    "from libcomcat.dataframes import get_history_data_frame, split_history_frame, PRODUCTS\n",
    "from libcomcat.search import get_event_by_id"
   ]
  },
  {
   "cell_type": "code",
   "execution_count": null,
   "id": "8db4db49-ec26-4fd4-a8ac-e8e757ad7ee1",
   "metadata": {},
   "outputs": [],
   "source": []
  },
  {
   "cell_type": "markdown",
   "id": "385ffcc2-b73b-4307-b46a-4cb815f8c49c",
   "metadata": {
    "tags": []
   },
   "source": [
    "\n",
    "\n",
    "\n"
   ]
  },
  {
   "cell_type": "code",
   "execution_count": null,
   "id": "55859211-3000-4d72-b504-ad5845bccd6e",
   "metadata": {},
   "outputs": [],
   "source": [
    "from csep.utils import datasets, time_utils, comcat, plots\n",
    "from csep.core import regions, catalog_evaluations\n",
    "\n",
    "# set start and end date\n",
    "start_time = time_utils.strptime_to_utc_datetime('2010-04-08 00:00:00.0')\n",
    "end_time = time_utils.strptime_to_utc_datetime('2010-04-09 23:59:59.0')\n",
    "# retrieve events in ComCat catalogue between start and end date\n",
    "catalog = csep.query_comcat(start_time, end_time)\n",
    "min_mw = 3.95 # minimum magnitude\n",
    "max_mw = 8.95 # max magnitude after which is just one bin\n",
    "dmw = 0.1 # bin width\n",
    "\n",
    "# Create space and magnitude regions. The forecast is already filtered in space and magnitude\n",
    "magnitudes = regions.magnitude_bins(min_mw, max_mw, dmw)\n",
    "region = regions.california_relm_region()\n",
    "\n",
    "# Bind region information to the forecast \n",
    "space_magnitude_region = regions.create_space_magnitude_region(region, magnitudes)\n",
    "\n",
    "\n",
    "# filter magnitude below 3.95\n",
    "catalog.filter('magnitude >= 3.95')\n",
    "# filter events outside spatial region\n",
    "catalog.filter_spatial(space_magnitude_region)\n",
    "# print summary information \n",
    "print(catalog)\n",
    "\n",
    "#######################################\n",
    "# CAGALOGUE SHOULD CONTAIN 10 EVENTS ##\n",
    "#######################################"
   ]
  },
  {
   "cell_type": "code",
   "execution_count": null,
   "id": "a5e4cfcb-87c4-46a1-8ccb-2bb4fa556fdc",
   "metadata": {},
   "outputs": [],
   "source": [
    "#load forecast\n",
    "forecast = csep.load_catalog_forecast('u3_fore_2010_04_08.bin',\n",
    "                                      start_time = start_time,\n",
    "                                      end_time = end_time,\n",
    "                                      type='ucerf3',\n",
    "                                      region = space_magnitude_region,\n",
    "                                      filter_spatial = True,\n",
    "                                      apply_filters = True,\n",
    "                                      filters = 'magnitude >= 3.95')"
   ]
  },
  {
   "cell_type": "code",
   "execution_count": null,
   "id": "3155230b-1429-47f8-bcba-698992699ed3",
   "metadata": {},
   "outputs": [],
   "source": [
    "evt_counts = forecast.get_event_counts()"
   ]
  },
  {
   "cell_type": "code",
   "execution_count": null,
   "id": "5043c863-8042-43bc-8824-614c2b82d50e",
   "metadata": {},
   "outputs": [],
   "source": [
    "##############################\n",
    "# Thia sum should be 420734 ##\n",
    "##############################\n",
    "np.sum(evt_counts)"
   ]
  },
  {
   "cell_type": "code",
   "execution_count": null,
   "id": "6ad15c63-8098-40cf-aed6-d01347225558",
   "metadata": {},
   "outputs": [],
   "source": [
    "# compute N-test\n",
    "number_test_result = catalog_evaluations.number_test(forecast, catalog)"
   ]
  },
  {
   "cell_type": "code",
   "execution_count": null,
   "id": "ba9862a5-6973-4d15-96d3-aa6707985929",
   "metadata": {},
   "outputs": [],
   "source": [
    "##################################################################\n",
    "## results should be delta_1 = 0.08, delta_2 = 0.93, omega = 10 ##\n",
    "################################################################## \n",
    "ax = number_test_result.plot()"
   ]
  },
  {
   "cell_type": "code",
   "execution_count": null,
   "id": "86c81d93-1e03-4b79-9498-8748f7b35a8d",
   "metadata": {},
   "outputs": [],
   "source": [
    "#calculate expected rates per space-magnitude bin\n",
    "expected_rates = forecast.get_expected_rates(verbose=True)"
   ]
  },
  {
   "cell_type": "code",
   "execution_count": null,
   "id": "5b5c4d37-8cc6-48e1-808a-2994ceaf4032",
   "metadata": {},
   "outputs": [],
   "source": [
    "args_forecast = {'title': 'Landers aftershock forecast',\n",
    "                 'grid_labels': True,\n",
    "                 'borders': True,\n",
    "                 'feature_lw': 0.5,\n",
    "                 'basemap': 'ESRI_imagery',\n",
    "                 'cmap': 'rainbow',\n",
    "                 'alpha_exp': 0.9,\n",
    "                 'projection': cartopy.crs.Mercator(),\n",
    "                 'clim':[-9, 0]}\n",
    "args_catalog = {'basemap': 'ESRI_terrain',\n",
    "                'markercolor': 'black',\n",
    "                'markersize': 4}\n",
    "ax_1 = expected_rates.plot(plot_args=args_forecast)\n",
    "ax_2 = catalog.plot(ax=ax_1, plot_args=args_catalog)\n",
    "#########################################################\n",
    "# Image only has observations in the right side corner ##\n",
    "#########################################################"
   ]
  }
 ],
 "metadata": {
  "kernelspec": {
   "display_name": "quakeworx-notebook-env",
   "language": "python",
   "name": "python3"
  },
  "language_info": {
   "codemirror_mode": {
    "name": "ipython",
    "version": 3
   },
   "file_extension": ".py",
   "mimetype": "text/x-python",
   "name": "python",
   "nbconvert_exporter": "python",
   "pygments_lexer": "ipython3",
   "version": "3.9.21"
  }
 },
 "nbformat": 4,
 "nbformat_minor": 5
}
