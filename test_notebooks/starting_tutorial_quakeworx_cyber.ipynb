{
 "cells": [
  {
   "cell_type": "code",
   "execution_count": 5,
   "id": "c62b7464-f3d0-43d4-9e67-dfaec6007ae2",
   "metadata": {},
   "outputs": [],
   "source": [
    "from obspy import read\n",
    "st = read()  # load example seismogram\n",
    "st.filter(type='highpass', freq=3.0)\n",
    "st = st.select(component='Z')\n",
    "#st.plot()"
   ]
  },
  {
   "cell_type": "code",
   "execution_count": 7,
   "id": "da855e22-0bb6-46df-bbd0-09be2e6ee409",
   "metadata": {},
   "outputs": [
    {
     "data": {
      "text/plain": [
       "True"
      ]
     },
     "execution_count": 7,
     "metadata": {},
     "output_type": "execute_result"
    }
   ],
   "source": [
    "import webbrowser\n",
    "url = \"https://www.sciencebase.gov/catalog/item/655bebe7d34ee4b6e05cc19f\"\n",
    "\n",
    "# Open the URL in the default web browser\n",
    "webbrowser.open(url)"
   ]
  },
  {
   "cell_type": "code",
   "execution_count": 4,
   "id": "36c0977c-0b98-4ced-82eb-4e698acabae0",
   "metadata": {},
   "outputs": [
    {
     "name": "stdout",
     "output_type": "stream",
     "text": [
      "wget 'https://www.sciencebase.gov/catalog/item/655bebe7d34ee4b6e05cc19f?name=NSHM23_FSD_v3.kml' -O ./NSHM23_FSD_v3.kml\n",
      "--2024-12-08 16:34:57--  https://www.sciencebase.gov/catalog/item/655bebe7d34ee4b6e05cc19f?name=NSHM23_FSD_v3.kml\n",
      "Resolving www.sciencebase.gov (www.sciencebase.gov)... 137.227.248.21\n",
      "Connecting to www.sciencebase.gov (www.sciencebase.gov)|137.227.248.21|:443... connected.\n",
      "HTTP request sent, awaiting response... 200 200\n",
      "Length: unspecified [text/html]\n",
      "Saving to: ‘./NSHM23_FSD_v3.kml’\n",
      "\n",
      "./NSHM23_FSD_v3.kml     [  <=>               ]  48.45K   242KB/s    in 0.2s    \n",
      "\n",
      "2024-12-08 16:34:58 (242 KB/s) - ‘./NSHM23_FSD_v3.kml’ saved [49615]\n",
      "\n",
      "wget 'https://www.sciencebase.gov/catalog/item/655bebe7d34ee4b6e05cc19f?name=NSHM23_FSD_v3.geojson' -O ./NSHM23_FSD_v3.geojson\n",
      "--2024-12-08 16:34:58--  https://www.sciencebase.gov/catalog/item/655bebe7d34ee4b6e05cc19f?name=NSHM23_FSD_v3.geojson\n",
      "Resolving www.sciencebase.gov (www.sciencebase.gov)... 137.227.248.21\n",
      "Connecting to www.sciencebase.gov (www.sciencebase.gov)|137.227.248.21|:443... connected.\n",
      "HTTP request sent, awaiting response... 200 200\n",
      "Length: unspecified [text/html]\n",
      "Saving to: ‘./NSHM23_FSD_v3.geojson’\n",
      "\n",
      "./NSHM23_FSD_v3.geo     [  <=>               ]  48.46K   230KB/s    in 0.2s    \n",
      "\n",
      "2024-12-08 16:34:58 (230 KB/s) - ‘./NSHM23_FSD_v3.geojson’ saved [49627]\n",
      "\n"
     ]
    }
   ],
   "source": [
    "import os\n",
    "# KMl File Download\n",
    "usgs_fdb_url = \"https://www.sciencebase.gov/catalog/item/655bebe7d34ee4b6e05cc19f\"\n",
    "kml_file = \"NSHM23_FSD_v3.kml\"\n",
    "geojson_file = \"NSHM23_FSD_v3.geojson\"\n",
    "\n",
    "cmd = f\"wget '{usgs_fdb_url}?name={kml_file}' -O ./{kml_file}\"\n",
    "print(cmd)\n",
    "!{cmd}\n",
    "\n",
    "cmd2 = f\"wget '{usgs_fdb_url}?name={geojson_file}' -O ./{geojson_file}\"\n",
    "print(cmd2)\n",
    "!{cmd2}"
   ]
  },
  {
   "cell_type": "code",
   "execution_count": null,
   "id": "25afe19c-4ee2-4c63-ae06-8c9c0b0db130",
   "metadata": {},
   "outputs": [],
   "source": [
    "import os\n",
    "import json\n",
    "import time\n",
    "import itertools\n",
    "import datetime\n",
    "import cartopy\n",
    "# Third-party Imports\n",
    "import numpy\n",
    "import numpy as np\n",
    "from scipy import ndimage as nd\n",
    "import matplotlib.pyplot as plt\n",
    "import matplotlib.pyplot as pyplot\n",
    "import matplotlib.pyplot as plot\n",
    "import matplotlib.patches as mpatches\n",
    "import csep\n",
    "import pandas as pd\n",
    "import libcomcat\n",
    "from libcomcat.dataframes import get_history_data_frame, split_history_frame, PRODUCTS\n",
    "from libcomcat.search import get_event_by_id"
   ]
  },
  {
   "cell_type": "code",
   "execution_count": null,
   "id": "8db4db49-ec26-4fd4-a8ac-e8e757ad7ee1",
   "metadata": {},
   "outputs": [],
   "source": []
  },
  {
   "cell_type": "markdown",
   "id": "385ffcc2-b73b-4307-b46a-4cb815f8c49c",
   "metadata": {
    "tags": []
   },
   "source": [
    "\n",
    "\n",
    "\n"
   ]
  },
  {
   "cell_type": "code",
   "execution_count": null,
   "id": "55859211-3000-4d72-b504-ad5845bccd6e",
   "metadata": {},
   "outputs": [],
   "source": [
    "from csep.utils import datasets, time_utils, comcat, plots\n",
    "from csep.core import regions, catalog_evaluations\n",
    "\n",
    "# set start and end date\n",
    "start_time = time_utils.strptime_to_utc_datetime('2010-04-08 00:00:00.0')\n",
    "end_time = time_utils.strptime_to_utc_datetime('2010-04-09 23:59:59.0')\n",
    "# retrieve events in ComCat catalogue between start and end date\n",
    "catalog = csep.query_comcat(start_time, end_time)\n",
    "min_mw = 3.95 # minimum magnitude\n",
    "max_mw = 8.95 # max magnitude after which is just one bin\n",
    "dmw = 0.1 # bin width\n",
    "\n",
    "# Create space and magnitude regions. The forecast is already filtered in space and magnitude\n",
    "magnitudes = regions.magnitude_bins(min_mw, max_mw, dmw)\n",
    "region = regions.california_relm_region()\n",
    "\n",
    "# Bind region information to the forecast \n",
    "space_magnitude_region = regions.create_space_magnitude_region(region, magnitudes)\n",
    "\n",
    "\n",
    "# filter magnitude below 3.95\n",
    "catalog.filter('magnitude >= 3.95')\n",
    "# filter events outside spatial region\n",
    "catalog.filter_spatial(space_magnitude_region)\n",
    "# print summary information \n",
    "print(catalog)\n",
    "\n",
    "#######################################\n",
    "# CAGALOGUE SHOULD CONTAIN 10 EVENTS ##\n",
    "#######################################"
   ]
  },
  {
   "cell_type": "code",
   "execution_count": null,
   "id": "a5e4cfcb-87c4-46a1-8ccb-2bb4fa556fdc",
   "metadata": {},
   "outputs": [],
   "source": [
    "#load forecast\n",
    "forecast = csep.load_catalog_forecast('u3_fore_2010_04_08.bin',\n",
    "                                      start_time = start_time,\n",
    "                                      end_time = end_time,\n",
    "                                      type='ucerf3',\n",
    "                                      region = space_magnitude_region,\n",
    "                                      filter_spatial = True,\n",
    "                                      apply_filters = True,\n",
    "                                      filters = 'magnitude >= 3.95')"
   ]
  },
  {
   "cell_type": "code",
   "execution_count": null,
   "id": "3155230b-1429-47f8-bcba-698992699ed3",
   "metadata": {},
   "outputs": [],
   "source": [
    "evt_counts = forecast.get_event_counts()"
   ]
  },
  {
   "cell_type": "code",
   "execution_count": null,
   "id": "5043c863-8042-43bc-8824-614c2b82d50e",
   "metadata": {},
   "outputs": [],
   "source": [
    "##############################\n",
    "# Thia sum should be 420734 ##\n",
    "##############################\n",
    "np.sum(evt_counts)"
   ]
  },
  {
   "cell_type": "code",
   "execution_count": null,
   "id": "6ad15c63-8098-40cf-aed6-d01347225558",
   "metadata": {},
   "outputs": [],
   "source": [
    "# compute N-test\n",
    "number_test_result = catalog_evaluations.number_test(forecast, catalog)"
   ]
  },
  {
   "cell_type": "code",
   "execution_count": null,
   "id": "ba9862a5-6973-4d15-96d3-aa6707985929",
   "metadata": {},
   "outputs": [],
   "source": [
    "##################################################################\n",
    "## results should be delta_1 = 0.08, delta_2 = 0.93, omega = 10 ##\n",
    "################################################################## \n",
    "ax = number_test_result.plot()"
   ]
  },
  {
   "cell_type": "code",
   "execution_count": null,
   "id": "86c81d93-1e03-4b79-9498-8748f7b35a8d",
   "metadata": {},
   "outputs": [],
   "source": [
    "#calculate expected rates per space-magnitude bin\n",
    "expected_rates = forecast.get_expected_rates(verbose=True)"
   ]
  },
  {
   "cell_type": "code",
   "execution_count": null,
   "id": "5b5c4d37-8cc6-48e1-808a-2994ceaf4032",
   "metadata": {},
   "outputs": [],
   "source": [
    "args_forecast = {'title': 'Landers aftershock forecast',\n",
    "                 'grid_labels': True,\n",
    "                 'borders': True,\n",
    "                 'feature_lw': 0.5,\n",
    "                 'basemap': 'ESRI_imagery',\n",
    "                 'cmap': 'rainbow',\n",
    "                 'alpha_exp': 0.9,\n",
    "                 'projection': cartopy.crs.Mercator(),\n",
    "                 'clim':[-9, 0]}\n",
    "args_catalog = {'basemap': 'ESRI_terrain',\n",
    "                'markercolor': 'black',\n",
    "                'markersize': 4}\n",
    "ax_1 = expected_rates.plot(plot_args=args_forecast)\n",
    "ax_2 = catalog.plot(ax=ax_1, plot_args=args_catalog)\n",
    "#########################################################\n",
    "# Image only has observations in the right side corner ##\n",
    "#########################################################"
   ]
  }
 ],
 "metadata": {
  "kernelspec": {
   "display_name": "Python 3 (ipykernel)",
   "language": "python",
   "name": "python3"
  },
  "language_info": {
   "codemirror_mode": {
    "name": "ipython",
    "version": 3
   },
   "file_extension": ".py",
   "mimetype": "text/x-python",
   "name": "python",
   "nbconvert_exporter": "python",
   "pygments_lexer": "ipython3",
   "version": "3.8.15"
  }
 },
 "nbformat": 4,
 "nbformat_minor": 5
}
